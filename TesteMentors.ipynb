{
 "cells": [
  {
   "cell_type": "code",
   "execution_count": 108,
   "id": "2bd21d7a",
   "metadata": {
    "scrolled": false
   },
   "outputs": [
    {
     "data": {
      "text/html": [
       "<h1>Calcula preço do produto por grupo de condição de pagamento</h1>"
      ],
      "text/plain": [
       "<IPython.core.display.HTML object>"
      ]
     },
     "metadata": {},
     "output_type": "display_data"
    },
    {
     "data": {
      "text/html": [
       "<p>Digite o sku do produto ou deixe vazio para lista completa:</p>"
      ],
      "text/plain": [
       "<IPython.core.display.HTML object>"
      ]
     },
     "metadata": {},
     "output_type": "display_data"
    },
    {
     "data": {
      "application/vnd.jupyter.widget-view+json": {
       "model_id": "b796c12af67a4684ab3e96ce6bb143c0",
       "version_major": 2,
       "version_minor": 0
      },
      "text/plain": [
       "Text(value='', description='SKU', placeholder='SKU do produto')"
      ]
     },
     "metadata": {},
     "output_type": "display_data"
    },
    {
     "data": {
      "text/html": [
       "<p>Selecione uma condição de pagamento:</p>"
      ],
      "text/plain": [
       "<IPython.core.display.HTML object>"
      ]
     },
     "metadata": {},
     "output_type": "display_data"
    },
    {
     "data": {
      "application/vnd.jupyter.widget-view+json": {
       "model_id": "dfba5e860bfb47799a5701c79d11662c",
       "version_major": 2,
       "version_minor": 0
      },
      "text/plain": [
       "Box(children=(Button(description='0', style=ButtonStyle()), Button(description='7', style=ButtonStyle()), Butt…"
      ]
     },
     "metadata": {},
     "output_type": "display_data"
    },
    {
     "data": {
      "application/vnd.jupyter.widget-view+json": {
       "model_id": "0af5a797ba1042e6a1ebe74288438857",
       "version_major": 2,
       "version_minor": 0
      },
      "text/plain": [
       "Output()"
      ]
     },
     "metadata": {},
     "output_type": "display_data"
    }
   ],
   "source": [
    "import sqlite3\n",
    "import pandas as pd\n",
    "import ipywidgets as widgets\n",
    "from IPython.display import display, clear_output\n",
    "from ipywidgets import Output, Layout, Box\n",
    "from IPython.core.display import HTML\n",
    "\n",
    "connection = sqlite3.connect('loja.db')\n",
    "cliente_df = pd.read_sql_query(\"select * from cliente\", connection)\n",
    "produto_df = pd.read_sql_query(\"select sku, descricao, preco from produto\", connection)\n",
    "condicao_df = pd.read_csv('tabela_condicao.csv')\n",
    "produtoTemp_df = produto_df.copy()\n",
    "\n",
    "btnLayout = Layout(flex='1 1 auto', width='auto')\n",
    "\n",
    "btns= [\n",
    "    widgets.Button(description = '0'),\n",
    "    widgets.Button(description = '7'),\n",
    "    widgets.Button(description = '14'),\n",
    "    widgets.Button(description = '21'),\n",
    "    widgets.Button(description = '28')\n",
    "]\n",
    "\n",
    "box_layout = Layout(display='flex',\n",
    "                    flex_flow='row',\n",
    "                    align_items='stretch')\n",
    "\n",
    "box = Box(children=btns, layout=box_layout)\n",
    "\n",
    "out = Output()\n",
    "\n",
    "textSku=widgets.Text(\n",
    "    #value='Digite o SKU do produto',\n",
    "    placeholder='SKU do produto',\n",
    "    description='SKU',\n",
    "    disabled=False\n",
    ")\n",
    "\n",
    "def exibeMsg(msg, outPut):\n",
    "    with outPut:      \n",
    "        clear_output()        \n",
    "        display(msg)  \n",
    "\n",
    "def validaNomeCliente(nomeCliente,outPut):\n",
    "    cliente1 = cliente_df.loc[cliente_df['nome_razao_social'] == nomeCliente]\n",
    "    if bool(cliente1.empty):\n",
    "        exibeMsg(\"Cliente não encontrado\",outPut)\n",
    "    return not bool(cliente1.empty)        \n",
    "\n",
    "def validaSkuProduto(sku,outPut):\n",
    "    if sku == '' :\n",
    "        exibeMsg(\"Deve ser inserido um sku\",outPreco)\n",
    "        return False\n",
    "    else:\n",
    "        produto = produto_df.loc[produto_df.sku == sku]  \n",
    "        if bool(produto.empty):\n",
    "            exibeMsg(\"Produto não encontrado\",outPut)\n",
    "            return False\n",
    "        else:\n",
    "            return True\n",
    "\n",
    "def buscaFatorMultiplicacao(condicao):\n",
    "    fator = condicao_df[condicao_df.condicao==condicao].fator.item()\n",
    "    return fator\n",
    "\n",
    "def buscaCondicaoPorNomeCliente(nomeCliente):\n",
    "    condicao = cliente_df.loc[cliente_df['nome_razao_social'] == nomeCliente].condicao.item()\n",
    "    return condicao\n",
    "\n",
    "def calculaPrecoPorCondicao(condicao,sku):\n",
    "    if condicao==0:\n",
    "       produtoTemp_df.preco = produto_df.preco\n",
    "    else:\n",
    "       produtoTemp_df.preco = produto_df.preco*(1+buscaFatorMultiplicacao(condicao))  \n",
    "    if sku == '':\n",
    "        return produtoTemp_df\n",
    "    else:\n",
    "        return produtoTemp_df.loc[produtoTemp_df.sku == sku]\n",
    "        \n",
    "def AlteraCondicao(button):\n",
    "    df = calculaPrecoPorCondicao(int(button.description),textSku.value)\n",
    "    with out:\n",
    "        clear_output() \n",
    "        display(df)\n",
    "        \n",
    "display(HTML('<h1>Calcula preço do produto por grupo de condição de pagamento</h1>')) \n",
    "display(HTML('<p>Digite o sku do produto ou deixe vazio para lista completa:</p>')) \n",
    "display(textSku)\n",
    "display(HTML('<p>Selecione uma condição de pagamento:</p>')) \n",
    "display(box)    \n",
    "display(out)\n",
    "\n",
    "box.children[0].on_click(AlteraCondicao)\n",
    "box.children[1].on_click(AlteraCondicao)\n",
    "box.children[2].on_click(AlteraCondicao)\n",
    "box.children[3].on_click(AlteraCondicao)\n",
    "box.children[4].on_click(AlteraCondicao)\n",
    "\n",
    "\n",
    "\n"
   ]
  },
  {
   "cell_type": "code",
   "execution_count": 109,
   "id": "476932e9",
   "metadata": {},
   "outputs": [
    {
     "data": {
      "text/html": [
       "<h1>Encontrar fator de multiplicação por cliente</h1>"
      ],
      "text/plain": [
       "<IPython.core.display.HTML object>"
      ]
     },
     "metadata": {},
     "output_type": "display_data"
    },
    {
     "data": {
      "text/html": [
       "<p>Digite o nome do cliente:</p>"
      ],
      "text/plain": [
       "<IPython.core.display.HTML object>"
      ]
     },
     "metadata": {},
     "output_type": "display_data"
    },
    {
     "data": {
      "application/vnd.jupyter.widget-view+json": {
       "model_id": "627b180fa58541228edee11f2a686a4a",
       "version_major": 2,
       "version_minor": 0
      },
      "text/plain": [
       "Text(value='', description='Nome', placeholder='Nome do cliente')"
      ]
     },
     "metadata": {},
     "output_type": "display_data"
    },
    {
     "data": {
      "application/vnd.jupyter.widget-view+json": {
       "model_id": "852d69f4175f4518b34b29414454d95c",
       "version_major": 2,
       "version_minor": 0
      },
      "text/plain": [
       "Button(description='Pesquisar', style=ButtonStyle())"
      ]
     },
     "metadata": {},
     "output_type": "display_data"
    },
    {
     "data": {
      "application/vnd.jupyter.widget-view+json": {
       "model_id": "0ebae98d1c0b4b858441d5857a59860a",
       "version_major": 2,
       "version_minor": 0
      },
      "text/plain": [
       "Output()"
      ]
     },
     "metadata": {},
     "output_type": "display_data"
    }
   ],
   "source": [
    "outCliente = Output()\n",
    "\n",
    "textNomeCliente=widgets.Text(\n",
    "    placeholder='Nome do cliente',\n",
    "    description='Nome',\n",
    "    disabled=False\n",
    ")\n",
    "\n",
    "btnPesquisarFator = widgets.Button(description=\"Pesquisar\")\n",
    "\n",
    "def retornaCondicaoDoCliente(wdgt):\n",
    "    nomeCliente = textNomeCliente.value.upper()\n",
    "    if validaNomeCliente(nomeCliente,outCliente):\n",
    "      condicao = buscaCondicaoPorNomeCliente(nomeCliente)\n",
    "      fator = buscaFatorMultiplicacao(condicao)       \n",
    "      exibeMsg(\"O fator de multiplicação do {fname} é {vfator}\".format(fname = nomeCliente, vfator = fator),outCliente)\n",
    "  \n",
    "display(HTML('<h1>Encontrar fator de multiplicação por cliente</h1>')) \n",
    "display(HTML('<p>Digite o nome do cliente:</p>')) \n",
    "display(textNomeCliente)\n",
    "display(btnPesquisarFator)\n",
    "display(outCliente)\n",
    "\n",
    "btnPesquisarFator.on_click(retornaCondicaoDoCliente)"
   ]
  },
  {
   "cell_type": "code",
   "execution_count": 112,
   "id": "13819d13",
   "metadata": {},
   "outputs": [
    {
     "data": {
      "text/html": [
       "<h1>Preço do produto de acordo com cliente</h1>"
      ],
      "text/plain": [
       "<IPython.core.display.HTML object>"
      ]
     },
     "metadata": {},
     "output_type": "display_data"
    },
    {
     "data": {
      "text/html": [
       "<p>Digite o nome do cliente:</p>"
      ],
      "text/plain": [
       "<IPython.core.display.HTML object>"
      ]
     },
     "metadata": {},
     "output_type": "display_data"
    },
    {
     "data": {
      "application/vnd.jupyter.widget-view+json": {
       "model_id": "b9f60ae7573248dca6f34b25b2b4deaa",
       "version_major": 2,
       "version_minor": 0
      },
      "text/plain": [
       "Text(value='', description='Nome', placeholder='Nome do cliente')"
      ]
     },
     "metadata": {},
     "output_type": "display_data"
    },
    {
     "data": {
      "text/html": [
       "<p>Digite o sku do produto:</p>"
      ],
      "text/plain": [
       "<IPython.core.display.HTML object>"
      ]
     },
     "metadata": {},
     "output_type": "display_data"
    },
    {
     "data": {
      "application/vnd.jupyter.widget-view+json": {
       "model_id": "a00fd6526e8f46c286da7107f9a103cb",
       "version_major": 2,
       "version_minor": 0
      },
      "text/plain": [
       "Text(value='', description='SKU', placeholder='SKU do produto')"
      ]
     },
     "metadata": {},
     "output_type": "display_data"
    },
    {
     "data": {
      "application/vnd.jupyter.widget-view+json": {
       "model_id": "1b5838f9e7794f19a48476a0a31cb1bd",
       "version_major": 2,
       "version_minor": 0
      },
      "text/plain": [
       "Button(description='Calcular', style=ButtonStyle())"
      ]
     },
     "metadata": {},
     "output_type": "display_data"
    },
    {
     "data": {
      "application/vnd.jupyter.widget-view+json": {
       "model_id": "0a7f0216d9c2470e8df548aaa5240465",
       "version_major": 2,
       "version_minor": 0
      },
      "text/plain": [
       "Output()"
      ]
     },
     "metadata": {},
     "output_type": "display_data"
    }
   ],
   "source": [
    "outPreco = Output()\n",
    "\n",
    "btnCalcularPrecoCliente = widgets.Button(description=\"Calcular\")\n",
    "\n",
    "textNomeClientePreco=widgets.Text(\n",
    "    placeholder='Nome do cliente',\n",
    "    description='Nome',\n",
    "    disabled=False\n",
    ")\n",
    "\n",
    "textSkuPreco=widgets.Text(\n",
    "    placeholder='SKU do produto',\n",
    "    description='SKU',\n",
    "    disabled=False)\n",
    "   \n",
    "def retornaPrecoProdutoPorCliente(wdgt):\n",
    "    nomeCliente = textNomeClientePreco.value.upper()\n",
    "    sku = textSkuPreco.value\n",
    "    if validaNomeCliente(nomeCliente, outPreco) and validaSkuProduto(sku, outPreco):\n",
    "        condicao = buscaCondicaoPorNomeCliente(nomeCliente)\n",
    "        df = calculaPrecoPorCondicao(condicao,sku)\n",
    "        msg = (\"Para o {fname} com condição de pagamento {fcondicao}, \" \n",
    "                \"o produto sku {fsku} tem o preço de {fpreco}\".format(fname = nomeCliente, fcondicao = condicao,fsku=sku,fpreco= df.preco.item()))\n",
    "        exibeMsg(msg,outPreco)\n",
    "        \n",
    "display(HTML('<h1>Preço do produto de acordo com cliente</h1>')) \n",
    "display(HTML('<p>Digite o nome do cliente:</p>')) \n",
    "display(textNomeClientePreco)\n",
    "display(HTML('<p>Digite o sku do produto:</p>')) \n",
    "display(textSkuPreco)\n",
    "display(btnCalcularPrecoCliente)\n",
    "display(outPreco)\n",
    "\n",
    "btnCalcularPrecoCliente.on_click(retornaPrecoProdutoPorCliente)\n"
   ]
  },
  {
   "cell_type": "code",
   "execution_count": null,
   "id": "c8aaf3fc",
   "metadata": {},
   "outputs": [],
   "source": []
  }
 ],
 "metadata": {
  "kernelspec": {
   "display_name": "Python 3 (ipykernel)",
   "language": "python",
   "name": "python3"
  },
  "language_info": {
   "codemirror_mode": {
    "name": "ipython",
    "version": 3
   },
   "file_extension": ".py",
   "mimetype": "text/x-python",
   "name": "python",
   "nbconvert_exporter": "python",
   "pygments_lexer": "ipython3",
   "version": "3.9.7"
  }
 },
 "nbformat": 4,
 "nbformat_minor": 5
}
